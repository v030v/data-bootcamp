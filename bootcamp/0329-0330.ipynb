{
 "cells": [
  {
   "attachments": {},
   "cell_type": "markdown",
   "metadata": {},
   "source": [
    "* classmethod, staticmethod"
   ]
  },
  {
   "cell_type": "code",
   "execution_count": 9,
   "metadata": {},
   "outputs": [],
   "source": [
    "class Node : # 데이터를 저장할 클래스\n",
    "    def __init__(self, data) :\n",
    "        self.left = None\n",
    "        self.right = None\n",
    "        self.data = data\n",
    "\n",
    "    def __repr__(self) :\n",
    "        return str(self.data)"
   ]
  },
  {
   "cell_type": "code",
   "execution_count": 10,
   "metadata": {},
   "outputs": [],
   "source": [
    "root = Node(11)"
   ]
  },
  {
   "cell_type": "code",
   "execution_count": 11,
   "metadata": {},
   "outputs": [
    {
     "name": "stdout",
     "output_type": "stream",
     "text": [
      "11\n"
     ]
    }
   ],
   "source": [
    "print(root)"
   ]
  },
  {
   "cell_type": "code",
   "execution_count": 12,
   "metadata": {},
   "outputs": [],
   "source": [
    "class BinarySearchTree :\n",
    "    def __init__(self) :\n",
    "        self.__root = None\n",
    "    \n",
    "    def insert(self, data, method = 'iterative') :\n",
    "        if method in 'recursion' :\n",
    "            self.__root = self._insert_rec(self.__root, data)\n",
    "        else :\n",
    "            self._insert_iter(data)\n",
    "\n",
    "    def _insert_rec(self, node, data) :\n",
    "        if not node :\n",
    "            node = Node(data)\n",
    "        else :\n",
    "            if node.data > data :\n",
    "                node.left = self._insert_rec(node.left, data)\n",
    "            else :\n",
    "                node.right = self._insert_rec(node.right, data)\n",
    "\n",
    "    def _insert_iter(self, data) :\n",
    "        if not self.__root :\n",
    "            self.__root = Node(data)\n",
    "            return\n",
    "        new_node = Node(data)\n",
    "\n",
    "        curr = self.__root\n",
    "        parent = None\n",
    "\n",
    "        while (curr != None) :\n",
    "            parent = curr\n",
    "            if curr.data > data :\n",
    "                curr = curr.left\n",
    "            else :\n",
    "                curr = curr.right\n",
    "\n",
    "        if parent.data > data :\n",
    "            parent.left = new_node\n",
    "        else :\n",
    "            parent.right = new_node\n",
    "\n",
    "    def find(self, data, node=None) : # 기본 값은 맨 뒤\n",
    "\n",
    "        if node is None :\n",
    "            node = self.__root\n",
    "            if node is None :\n",
    "                return False \n",
    "        \n",
    "        if node.data == data :\n",
    "            return True\n",
    "        elif node.data > data : # 재귀함수\n",
    "            return self.find(node = node.left, data = data)\n",
    "        else :\n",
    "            return self.find(node = node.right, data = data)\n",
    "        \n",
    "    def delete(self, data) :\n",
    "        self._delete_data(self.__root, data)\n",
    "    \n",
    "    def find_min_node(self, data) :\n",
    "        while node.left :\n",
    "            node = node.left\n",
    "        return node\n",
    "    \n",
    "    def _delete_data(self, node, data) :\n",
    "        parent = None\n",
    "\n",
    "        curr = node\n",
    "\n",
    "        while curr and curr.data != data :\n",
    "            parent = curr\n",
    "\n",
    "            if curr.data > data :\n",
    "                curr = curr.left\n",
    "            else : \n",
    "                curr = curr.right\n",
    "\n",
    "            if curr is None :\n",
    "                return node\n",
    "            \n",
    "            # 자식 노드가 없는 경우 노드의 삭제\n",
    "            \n",
    "            if curr.left is None and curr.right is None :\n",
    "                if curr != node :\n",
    "                    if parent.left == curr :\n",
    "                        parent.left = None\n",
    "                    else :\n",
    "                        parent.right = None\n",
    "                else :\n",
    "                    node = None\n",
    "\n",
    "            # 오른쪽 왼쪽에 모든 자식이 있을 때\n",
    "\n",
    "            elif curr.left and curr.right :\n",
    "                min_node = self.find_min_node(curr.right)\n",
    "\n",
    "                min_data = min_node.data\n",
    "\n",
    "                self._delete_data(node, min_data)\n",
    "                curr.data = min_data\n",
    "\n",
    "\n",
    "            # 오른쪽 or 왼쪽 노드 하나만 있을 경우\n",
    "\n",
    "            else :\n",
    "                if curr.left :\n",
    "                    child = curr.left\n",
    "                else :\n",
    "                    child = curr.right\n",
    "                if curr != node :\n",
    "                    if curr == parent.left :\n",
    "                        parent.left = child\n",
    "                    else :\n",
    "                        parent.right = child\n",
    "                else :\n",
    "                    node = child\n",
    "            return node"
   ]
  },
  {
   "cell_type": "code",
   "execution_count": 13,
   "metadata": {},
   "outputs": [],
   "source": [
    "if __name__ == \"__main__\" :\n",
    "    bst = BinarySearchTree()\n",
    "    bst.insert(20)\n",
    "    bst.insert(25)\n",
    "    bst.insert(14)\n",
    "    bst.insert(30)\n",
    "    bst.insert(23)\n",
    "    bst.insert(18)\n",
    "    bst.insert(11)\n",
    "    bst.insert(21)\n",
    "    bst.insert(15)\n",
    "    bst.insert(11)\n",
    "    bst.find(23)"
   ]
  },
  {
   "cell_type": "code",
   "execution_count": 14,
   "metadata": {},
   "outputs": [
    {
     "name": "stdout",
     "output_type": "stream",
     "text": [
      "True\n"
     ]
    }
   ],
   "source": [
    "print(bst.find(23))"
   ]
  },
  {
   "cell_type": "code",
   "execution_count": null,
   "metadata": {},
   "outputs": [],
   "source": [
    "bst.delete(15)"
   ]
  }
 ],
 "metadata": {
  "kernelspec": {
   "display_name": "base",
   "language": "python",
   "name": "python3"
  },
  "language_info": {
   "codemirror_mode": {
    "name": "ipython",
    "version": 3
   },
   "file_extension": ".py",
   "mimetype": "text/x-python",
   "name": "python",
   "nbconvert_exporter": "python",
   "pygments_lexer": "ipython3",
   "version": "3.9.13"
  },
  "orig_nbformat": 4
 },
 "nbformat": 4,
 "nbformat_minor": 2
}
