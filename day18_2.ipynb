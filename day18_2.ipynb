{
 "cells": [
  {
   "attachments": {},
   "cell_type": "markdown",
   "metadata": {},
   "source": [
    "- 연결 리스트(Linked list)"
   ]
  },
  {
   "cell_type": "code",
   "execution_count": 2,
   "metadata": {},
   "outputs": [],
   "source": [
    "class Node :\n",
    "    \n",
    "    def __init__(self, data=None, next_=None) :\n",
    "        self.data = data\n",
    "        self.next = next_\n"
   ]
  },
  {
   "cell_type": "code",
   "execution_count": 11,
   "metadata": {},
   "outputs": [],
   "source": [
    "a = b = 1 # == a=1, b=1"
   ]
  },
  {
   "cell_type": "code",
   "execution_count": 12,
   "metadata": {},
   "outputs": [
    {
     "data": {
      "text/plain": [
       "1"
      ]
     },
     "execution_count": 12,
     "metadata": {},
     "output_type": "execute_result"
    }
   ],
   "source": [
    "a"
   ]
  },
  {
   "cell_type": "code",
   "execution_count": null,
   "metadata": {},
   "outputs": [],
   "source": []
  },
  {
   "cell_type": "code",
   "execution_count": 31,
   "metadata": {},
   "outputs": [],
   "source": [
    "class LinkedList :\n",
    "    def __init__(self) :\n",
    "        self.no = 0 #노드의 갯수\n",
    "        self.head = None #Head\n",
    "        self.current = None # 현재 노드\n",
    "\n",
    "    def __len__(self) :\n",
    "        return self.no\n",
    "    \n",
    "    def add_first(self, data) : #first == 앞쪽에 데이터 넣는 것\n",
    "        ptr = self.head #ptr == 내부적으로 있는 변수 ,pointer\n",
    "        # self.head = Node(data, ptr)\n",
    "        # self.current = Node(data, ptr)\n",
    "        self.head = self.current = Node(data, ptr)\n",
    "        self.no += 1\n",
    "\n",
    "    def add_last(self, data) :\n",
    "        if self.head is None :\n",
    "            self.add_first(data)\n",
    "        else :\n",
    "            ptr = self.head\n",
    "            while ptr.next is not None :\n",
    "                ptr = ptr.next\n",
    "            ptr.next = self.current = Node(data, None) #현재 화살표를 다음 화살표로 넘겨\n",
    "            self.no += 1\n",
    "\n",
    "    def print(self) :\n",
    "        ptr = self.head\n",
    "        while ptr is not None :\n",
    "            print(ptr.data)\n",
    "            ptr = ptr.next\n"
   ]
  },
  {
   "cell_type": "code",
   "execution_count": 32,
   "metadata": {},
   "outputs": [],
   "source": [
    "lst = LinkedList()\n",
    "lst.add_first(\"엔코아\")\n",
    "lst.add_first(\"플레이데이터\")\n",
    "lst.add_last(\"임재규\")"
   ]
  },
  {
   "cell_type": "code",
   "execution_count": 33,
   "metadata": {},
   "outputs": [
    {
     "data": {
      "text/plain": [
       "3"
      ]
     },
     "execution_count": 33,
     "metadata": {},
     "output_type": "execute_result"
    }
   ],
   "source": [
    "len(lst)"
   ]
  },
  {
   "cell_type": "code",
   "execution_count": 34,
   "metadata": {},
   "outputs": [],
   "source": [
    "lst2 = LinkedList()\n",
    "lst2.add_first(\"공형조\")\n",
    "lst2.add_first(\"서보혁\")\n",
    "lst2.add_first(\"장진수\")"
   ]
  },
  {
   "cell_type": "code",
   "execution_count": 35,
   "metadata": {},
   "outputs": [],
   "source": [
    "lst3 = LinkedList()"
   ]
  },
  {
   "cell_type": "code",
   "execution_count": 36,
   "metadata": {},
   "outputs": [],
   "source": [
    "lst3.add_first(\"진\")"
   ]
  },
  {
   "cell_type": "code",
   "execution_count": 37,
   "metadata": {},
   "outputs": [],
   "source": [
    "lst3.add_first(\"뷔\")"
   ]
  },
  {
   "cell_type": "code",
   "execution_count": 38,
   "metadata": {},
   "outputs": [],
   "source": [
    "lst3.add_last(\"정국\")"
   ]
  },
  {
   "cell_type": "code",
   "execution_count": null,
   "metadata": {},
   "outputs": [],
   "source": []
  }
 ],
 "metadata": {
  "kernelspec": {
   "display_name": "base",
   "language": "python",
   "name": "python3"
  },
  "language_info": {
   "codemirror_mode": {
    "name": "ipython",
    "version": 3
   },
   "file_extension": ".py",
   "mimetype": "text/x-python",
   "name": "python",
   "nbconvert_exporter": "python",
   "pygments_lexer": "ipython3",
   "version": "3.9.13"
  },
  "orig_nbformat": 4
 },
 "nbformat": 4,
 "nbformat_minor": 2
}
