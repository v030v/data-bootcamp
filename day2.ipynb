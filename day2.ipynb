{
 "cells": [
  {
   "cell_type": "code",
   "execution_count": 13,
   "metadata": {},
   "outputs": [],
   "source": [
    "def func_1(year) :\n",
    "    if y % 4 == 0 and y % 100 != 0 or y % 400 == 0 :\n",
    "        return \"윤년임\"\n",
    "    else :\n",
    "        return \"아님\""
   ]
  },
  {
   "cell_type": "code",
   "execution_count": 5,
   "metadata": {},
   "outputs": [],
   "source": [
    "total = []\n",
    "for x in range(1,5) :\n",
    "    total.append(x) "
   ]
  },
  {
   "cell_type": "code",
   "execution_count": 7,
   "metadata": {},
   "outputs": [],
   "source": [
    "total = [x for x in range(1,5)]"
   ]
  },
  {
   "cell_type": "code",
   "execution_count": 9,
   "metadata": {},
   "outputs": [],
   "source": [
    "total = []\n",
    "for x in range(1,100) :\n",
    "    if x % 3 == 0 and x % 5 == 0 :\n",
    "        total.append(x)"
   ]
  },
  {
   "cell_type": "code",
   "execution_count": 17,
   "metadata": {},
   "outputs": [],
   "source": [
    "total12 = [x for x in range(1,100) if x % 3 == 0 and x % 5 == 0]"
   ]
  },
  {
   "attachments": {},
   "cell_type": "markdown",
   "metadata": {},
   "source": [
    "* break = 멈춤/ 아예 끝\n",
    "* continue = 해당 되는 로직에서 이 순간만 멈추고 흐르면"
   ]
  },
  {
   "cell_type": "code",
   "execution_count": 32,
   "metadata": {},
   "outputs": [],
   "source": [
    "for x in range(100) :\n",
    "    if x % 2 == 0 :\n",
    "        break\n",
    "        print(x)"
   ]
  },
  {
   "cell_type": "code",
   "execution_count": 33,
   "metadata": {},
   "outputs": [
    {
     "data": {
      "text/plain": [
       "0"
      ]
     },
     "execution_count": 33,
     "metadata": {},
     "output_type": "execute_result"
    }
   ],
   "source": [
    "x"
   ]
  },
  {
   "cell_type": "code",
   "execution_count": 31,
   "metadata": {},
   "outputs": [],
   "source": [
    "for x in range(100) :\n",
    "    if x % 2 == 0 :\n",
    "        continue\n",
    "        print(x)"
   ]
  },
  {
   "cell_type": "code",
   "execution_count": 34,
   "metadata": {},
   "outputs": [
    {
     "data": {
      "text/plain": [
       "0"
      ]
     },
     "execution_count": 34,
     "metadata": {},
     "output_type": "execute_result"
    }
   ],
   "source": [
    "x"
   ]
  },
  {
   "cell_type": "code",
   "execution_count": 1,
   "metadata": {},
   "outputs": [
    {
     "name": "stdout",
     "output_type": "stream",
     "text": [
      "0\n",
      "1\n",
      "2\n",
      "3\n",
      "4\n",
      "5\n",
      "6\n",
      "7\n",
      "8\n",
      "9\n"
     ]
    }
   ],
   "source": [
    "cnt = 0\n",
    "while cnt < 10 :\n",
    "    print(cnt)\n",
    "    cnt += 1"
   ]
  },
  {
   "cell_type": "code",
   "execution_count": 3,
   "metadata": {},
   "outputs": [
    {
     "name": "stdout",
     "output_type": "stream",
     "text": [
      "0\n",
      "1\n",
      "2\n",
      "3\n",
      "4\n"
     ]
    }
   ],
   "source": [
    "cnt = 0\n",
    "while cnt < 10 :\n",
    "    if cnt == 5 :\n",
    "        break\n",
    "    print(cnt)\n",
    "    cnt += 1"
   ]
  },
  {
   "cell_type": "code",
   "execution_count": 1,
   "metadata": {},
   "outputs": [
    {
     "name": "stdout",
     "output_type": "stream",
     "text": [
      "0\n",
      "1\n",
      "2\n",
      "3\n",
      "4\n"
     ]
    }
   ],
   "source": [
    "cnt = 0\n",
    "while cnt < 10 :\n",
    "    if cnt == 5 :\n",
    "        continue  # 5 이후부터 계속 무한루프\n",
    "    print(cnt)\n",
    "    cnt += 1 "
   ]
  },
  {
   "cell_type": "code",
   "execution_count": 3,
   "metadata": {},
   "outputs": [
    {
     "name": "stdout",
     "output_type": "stream",
     "text": [
      "0\n",
      "1\n",
      "2\n",
      "3\n",
      "4\n",
      "6\n",
      "7\n",
      "8\n",
      "9\n"
     ]
    }
   ],
   "source": [
    "cnt = 0\n",
    "while cnt < 10 :\n",
    "    if cnt == 5 :\n",
    "        cnt += 1\n",
    "        continue \n",
    "    print(cnt)\n",
    "    cnt += 1"
   ]
  },
  {
   "cell_type": "code",
   "execution_count": 4,
   "metadata": {},
   "outputs": [],
   "source": [
    "def avg() :\n",
    "    pass # 구조만들 때 사용"
   ]
  },
  {
   "cell_type": "code",
   "execution_count": 5,
   "metadata": {},
   "outputs": [],
   "source": [
    "ditto = '''Woo woo woo woo ooh\n",
    "Woo woo woo woo\n",
    "Stay in the middle\n",
    "Like you a little\n",
    "Don’t want no riddle\n",
    "말해줘 say it back\n",
    "Oh say it ditto\n",
    "아침은 너무 멀어\n",
    "So say it ditto\n",
    "훌쩍 커버렸어\n",
    "함께한 기억처럼\n",
    "널 보는 내 마음은\n",
    "어느새 여름 지나 가을\n",
    "기다렸지 all this time\n",
    "Do you want somebody\n",
    "Like I want somebody\n",
    "날 보고 웃었지만\n",
    "Do you think about me now yeah\n",
    "All the time yeah\n",
    "All the time\n",
    "I got no time to lose\n",
    "내 길었던 하루\n",
    "난 보고 싶어\n",
    "Ra-ta-ta-ta 울린 심장 (Ra-ta-ta-ta)\n",
    "I got nothing to lose\n",
    "널 좋아한다고\n",
    "wooah wooah wooah\n",
    "Ra-ta-ta-ta 울린 심장 (Ra-ta-ta-ta)\n",
    "But I don't want to\n",
    "Stay in the middle\n",
    "Like you a little\n",
    "Don’t want no riddle\n",
    "말해줘 say it back\n",
    "Oh say it ditto\n",
    "아침은 너무 멀어\n",
    "So say it ditto\n",
    "I don't want to\n",
    "Walk in this 미로\n",
    "다 아는 건 아니어도\n",
    "바라던 대로\n",
    "말해줘 Say it back\n",
    "Oh say it ditto\n",
    "I want you so, want you\n",
    "So say it ditto\n",
    "Not just anybody\n",
    "너를 상상했지\n",
    "항상 닿아있던\n",
    "처음 느낌 그대로 난\n",
    "기다렸지 all this time\n",
    "I got nothing to lose\n",
    "널 좋아한다고\n",
    "wooah wooah wooah\n",
    "Ra-ta-ta-ta 울린 심장 (Ra-ta-ta-ta)\n",
    "But I don't want to\n",
    "Stay in the middle\n",
    "Like you a little\n",
    "Don’t want no riddle\n",
    "말해줘 say it back\n",
    "Oh say it ditto\n",
    "아침은 너무 멀어\n",
    "So say it ditto\n",
    "I don't want to\n",
    "Walk in this 미로\n",
    "다 아는 건 아니어도\n",
    "바라던 대로\n",
    "말해줘 Say it back\n",
    "Oh say it ditto\n",
    "I want you so, want you\n",
    "So say it ditto\n",
    "Woo woo woo woo ooh\n",
    "Woo woo woo woo'''\n"
   ]
  },
  {
   "cell_type": "code",
   "execution_count": 8,
   "metadata": {},
   "outputs": [
    {
     "data": {
      "text/plain": [
       "70"
      ]
     },
     "execution_count": 8,
     "metadata": {},
     "output_type": "execute_result"
    }
   ],
   "source": [
    "ditto.count('\\n')"
   ]
  },
  {
   "cell_type": "code",
   "execution_count": 10,
   "metadata": {},
   "outputs": [
    {
     "data": {
      "text/plain": [
       "10"
      ]
     },
     "execution_count": 10,
     "metadata": {},
     "output_type": "execute_result"
    }
   ],
   "source": [
    "ditto.lower().count('ditto') # lower = 소문자로 전환"
   ]
  },
  {
   "cell_type": "code",
   "execution_count": 11,
   "metadata": {},
   "outputs": [],
   "source": [
    "ditto = ditto.lower()"
   ]
  },
  {
   "cell_type": "code",
   "execution_count": null,
   "metadata": {},
   "outputs": [],
   "source": [
    "ditto.split()"
   ]
  }
 ],
 "metadata": {
  "kernelspec": {
   "display_name": "base",
   "language": "python",
   "name": "python3"
  },
  "language_info": {
   "codemirror_mode": {
    "name": "ipython",
    "version": 3
   },
   "file_extension": ".py",
   "mimetype": "text/x-python",
   "name": "python",
   "nbconvert_exporter": "python",
   "pygments_lexer": "ipython3",
   "version": "3.9.13"
  },
  "orig_nbformat": 4,
  "vscode": {
   "interpreter": {
    "hash": "ca71aff40853dd846130b67975d07637ec6294bee047a07657cfc9075e3162be"
   }
  }
 },
 "nbformat": 4,
 "nbformat_minor": 2
}
