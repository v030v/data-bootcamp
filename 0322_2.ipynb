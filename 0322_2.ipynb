{
 "cells": [
  {
   "cell_type": "code",
   "execution_count": 50,
   "metadata": {},
   "outputs": [],
   "source": [
    "import pymysql\n",
    "\n",
    "try:\n",
    "    con = pymysql.connect(host='127.0.0.1', user='root', password='1234',  \n",
    "                          port=4000, db='classicmodels', charset='utf8')\n",
    "    cur = con.cursor()\n",
    "except Exception as e:\n",
    "    print (e) "
   ]
  },
  {
   "cell_type": "code",
   "execution_count": 51,
   "metadata": {},
   "outputs": [
    {
     "data": {
      "text/plain": [
       "8"
      ]
     },
     "execution_count": 51,
     "metadata": {},
     "output_type": "execute_result"
    }
   ],
   "source": [
    "cur.execute('show tables')"
   ]
  },
  {
   "cell_type": "code",
   "execution_count": 52,
   "metadata": {},
   "outputs": [
    {
     "data": {
      "text/plain": [
       "(('customers',),\n",
       " ('employees',),\n",
       " ('offices',),\n",
       " ('orderdetails',),\n",
       " ('orders',),\n",
       " ('payments',),\n",
       " ('productlines',),\n",
       " ('products',))"
      ]
     },
     "execution_count": 52,
     "metadata": {},
     "output_type": "execute_result"
    }
   ],
   "source": [
    "cur.fetchall()"
   ]
  },
  {
   "cell_type": "code",
   "execution_count": 53,
   "metadata": {},
   "outputs": [],
   "source": [
    "sql = 'select * from {}'\n",
    "import pandas as pd"
   ]
  },
  {
   "cell_type": "code",
   "execution_count": 54,
   "metadata": {},
   "outputs": [],
   "source": [
    "locals()['a']= 10"
   ]
  },
  {
   "cell_type": "code",
   "execution_count": 55,
   "metadata": {},
   "outputs": [],
   "source": [
    "for q in cur.fetchall() :\n",
    "    locals()[q[0]] = pd.read_sql_query(sql.format(q[0]), con=con)"
   ]
  },
  {
   "cell_type": "code",
   "execution_count": 56,
   "metadata": {},
   "outputs": [],
   "source": [
    "# 참고사항\n",
    "text = \"a = pd.read_sql_query('select * from orders', con = con)\""
   ]
  },
  {
   "cell_type": "code",
   "execution_count": 57,
   "metadata": {},
   "outputs": [
    {
     "name": "stderr",
     "output_type": "stream",
     "text": [
      "c:\\Users\\Playdata\\Anaconda3\\lib\\site-packages\\pandas\\io\\sql.py:762: UserWarning: pandas only support SQLAlchemy connectable(engine/connection) ordatabase string URI or sqlite3 DBAPI2 connectionother DBAPI2 objects are not tested, please consider using SQLAlchemy\n",
      "  warnings.warn(\n"
     ]
    }
   ],
   "source": [
    "exec(text)"
   ]
  },
  {
   "cell_type": "code",
   "execution_count": 58,
   "metadata": {},
   "outputs": [
    {
     "data": {
      "text/html": [
       "<div>\n",
       "<style scoped>\n",
       "    .dataframe tbody tr th:only-of-type {\n",
       "        vertical-align: middle;\n",
       "    }\n",
       "\n",
       "    .dataframe tbody tr th {\n",
       "        vertical-align: top;\n",
       "    }\n",
       "\n",
       "    .dataframe thead th {\n",
       "        text-align: right;\n",
       "    }\n",
       "</style>\n",
       "<table border=\"1\" class=\"dataframe\">\n",
       "  <thead>\n",
       "    <tr style=\"text-align: right;\">\n",
       "      <th></th>\n",
       "      <th>orderNumber</th>\n",
       "      <th>orderDate</th>\n",
       "      <th>requiredDate</th>\n",
       "      <th>shippedDate</th>\n",
       "      <th>status</th>\n",
       "      <th>comments</th>\n",
       "      <th>customerNumber</th>\n",
       "    </tr>\n",
       "  </thead>\n",
       "  <tbody>\n",
       "    <tr>\n",
       "      <th>0</th>\n",
       "      <td>10100</td>\n",
       "      <td>2003-01-06</td>\n",
       "      <td>2003-01-13</td>\n",
       "      <td>2003-01-10</td>\n",
       "      <td>Shipped</td>\n",
       "      <td>None</td>\n",
       "      <td>363</td>\n",
       "    </tr>\n",
       "    <tr>\n",
       "      <th>1</th>\n",
       "      <td>10101</td>\n",
       "      <td>2003-01-09</td>\n",
       "      <td>2003-01-18</td>\n",
       "      <td>2003-01-11</td>\n",
       "      <td>Shipped</td>\n",
       "      <td>Check on availability.</td>\n",
       "      <td>128</td>\n",
       "    </tr>\n",
       "    <tr>\n",
       "      <th>2</th>\n",
       "      <td>10102</td>\n",
       "      <td>2003-01-10</td>\n",
       "      <td>2003-01-18</td>\n",
       "      <td>2003-01-14</td>\n",
       "      <td>Shipped</td>\n",
       "      <td>None</td>\n",
       "      <td>181</td>\n",
       "    </tr>\n",
       "    <tr>\n",
       "      <th>3</th>\n",
       "      <td>10103</td>\n",
       "      <td>2003-01-29</td>\n",
       "      <td>2003-02-07</td>\n",
       "      <td>2003-02-02</td>\n",
       "      <td>Shipped</td>\n",
       "      <td>None</td>\n",
       "      <td>121</td>\n",
       "    </tr>\n",
       "    <tr>\n",
       "      <th>4</th>\n",
       "      <td>10104</td>\n",
       "      <td>2003-01-31</td>\n",
       "      <td>2003-02-09</td>\n",
       "      <td>2003-02-01</td>\n",
       "      <td>Shipped</td>\n",
       "      <td>None</td>\n",
       "      <td>141</td>\n",
       "    </tr>\n",
       "    <tr>\n",
       "      <th>...</th>\n",
       "      <td>...</td>\n",
       "      <td>...</td>\n",
       "      <td>...</td>\n",
       "      <td>...</td>\n",
       "      <td>...</td>\n",
       "      <td>...</td>\n",
       "      <td>...</td>\n",
       "    </tr>\n",
       "    <tr>\n",
       "      <th>321</th>\n",
       "      <td>10421</td>\n",
       "      <td>2005-05-29</td>\n",
       "      <td>2005-06-06</td>\n",
       "      <td>None</td>\n",
       "      <td>In Process</td>\n",
       "      <td>Custom shipping instructions were sent to ware...</td>\n",
       "      <td>124</td>\n",
       "    </tr>\n",
       "    <tr>\n",
       "      <th>322</th>\n",
       "      <td>10422</td>\n",
       "      <td>2005-05-30</td>\n",
       "      <td>2005-06-11</td>\n",
       "      <td>None</td>\n",
       "      <td>In Process</td>\n",
       "      <td>None</td>\n",
       "      <td>157</td>\n",
       "    </tr>\n",
       "    <tr>\n",
       "      <th>323</th>\n",
       "      <td>10423</td>\n",
       "      <td>2005-05-30</td>\n",
       "      <td>2005-06-05</td>\n",
       "      <td>None</td>\n",
       "      <td>In Process</td>\n",
       "      <td>None</td>\n",
       "      <td>314</td>\n",
       "    </tr>\n",
       "    <tr>\n",
       "      <th>324</th>\n",
       "      <td>10424</td>\n",
       "      <td>2005-05-31</td>\n",
       "      <td>2005-06-08</td>\n",
       "      <td>None</td>\n",
       "      <td>In Process</td>\n",
       "      <td>None</td>\n",
       "      <td>141</td>\n",
       "    </tr>\n",
       "    <tr>\n",
       "      <th>325</th>\n",
       "      <td>10425</td>\n",
       "      <td>2005-05-31</td>\n",
       "      <td>2005-06-07</td>\n",
       "      <td>None</td>\n",
       "      <td>In Process</td>\n",
       "      <td>None</td>\n",
       "      <td>119</td>\n",
       "    </tr>\n",
       "  </tbody>\n",
       "</table>\n",
       "<p>326 rows × 7 columns</p>\n",
       "</div>"
      ],
      "text/plain": [
       "     orderNumber   orderDate requiredDate shippedDate      status  \\\n",
       "0          10100  2003-01-06   2003-01-13  2003-01-10     Shipped   \n",
       "1          10101  2003-01-09   2003-01-18  2003-01-11     Shipped   \n",
       "2          10102  2003-01-10   2003-01-18  2003-01-14     Shipped   \n",
       "3          10103  2003-01-29   2003-02-07  2003-02-02     Shipped   \n",
       "4          10104  2003-01-31   2003-02-09  2003-02-01     Shipped   \n",
       "..           ...         ...          ...         ...         ...   \n",
       "321        10421  2005-05-29   2005-06-06        None  In Process   \n",
       "322        10422  2005-05-30   2005-06-11        None  In Process   \n",
       "323        10423  2005-05-30   2005-06-05        None  In Process   \n",
       "324        10424  2005-05-31   2005-06-08        None  In Process   \n",
       "325        10425  2005-05-31   2005-06-07        None  In Process   \n",
       "\n",
       "                                              comments  customerNumber  \n",
       "0                                                 None             363  \n",
       "1                               Check on availability.             128  \n",
       "2                                                 None             181  \n",
       "3                                                 None             121  \n",
       "4                                                 None             141  \n",
       "..                                                 ...             ...  \n",
       "321  Custom shipping instructions were sent to ware...             124  \n",
       "322                                               None             157  \n",
       "323                                               None             314  \n",
       "324                                               None             141  \n",
       "325                                               None             119  \n",
       "\n",
       "[326 rows x 7 columns]"
      ]
     },
     "execution_count": 58,
     "metadata": {},
     "output_type": "execute_result"
    }
   ],
   "source": [
    "a"
   ]
  },
  {
   "cell_type": "code",
   "execution_count": 59,
   "metadata": {},
   "outputs": [
    {
     "data": {
      "text/plain": [
       "((125,),\n",
       " (169,),\n",
       " (206,),\n",
       " (223,),\n",
       " (237,),\n",
       " (247,),\n",
       " (273,),\n",
       " (293,),\n",
       " (303,),\n",
       " (307,),\n",
       " (335,),\n",
       " (348,),\n",
       " (356,),\n",
       " (361,),\n",
       " (369,),\n",
       " (409,),\n",
       " (443,),\n",
       " (459,),\n",
       " (465,),\n",
       " (477,),\n",
       " (480,),\n",
       " (481,),\n",
       " (124,),\n",
       " (129,),\n",
       " (161,),\n",
       " (321,),\n",
       " (450,),\n",
       " (487,),\n",
       " (112,),\n",
       " (205,),\n",
       " (219,),\n",
       " (239,),\n",
       " (347,),\n",
       " (475,),\n",
       " (173,),\n",
       " (204,),\n",
       " (320,),\n",
       " (339,),\n",
       " (379,),\n",
       " (495,),\n",
       " (157,),\n",
       " (198,),\n",
       " (286,),\n",
       " (362,),\n",
       " (363,),\n",
       " (462,),\n",
       " (151,),\n",
       " (168,),\n",
       " (181,),\n",
       " (233,),\n",
       " (424,),\n",
       " (455,),\n",
       " (456,),\n",
       " (131,),\n",
       " (175,),\n",
       " (202,),\n",
       " (260,),\n",
       " (319,),\n",
       " (328,),\n",
       " (447,),\n",
       " (486,),\n",
       " (146,),\n",
       " (172,),\n",
       " (250,),\n",
       " (350,),\n",
       " (353,),\n",
       " (406,),\n",
       " (103,),\n",
       " (119,),\n",
       " (141,),\n",
       " (171,),\n",
       " (209,),\n",
       " (242,),\n",
       " (256,),\n",
       " (145,),\n",
       " (227,),\n",
       " (249,),\n",
       " (278,),\n",
       " (314,),\n",
       " (381,),\n",
       " (382,),\n",
       " (386,),\n",
       " (452,),\n",
       " (473,),\n",
       " (186,),\n",
       " (187,),\n",
       " (201,),\n",
       " (240,),\n",
       " (311,),\n",
       " (324,),\n",
       " (334,),\n",
       " (489,),\n",
       " (121,),\n",
       " (128,),\n",
       " (144,),\n",
       " (167,),\n",
       " (189,),\n",
       " (259,),\n",
       " (299,),\n",
       " (415,),\n",
       " (448,),\n",
       " (114,),\n",
       " (276,),\n",
       " (282,),\n",
       " (333,),\n",
       " (471,),\n",
       " (166,),\n",
       " (323,),\n",
       " (357,),\n",
       " (412,),\n",
       " (496,),\n",
       " (148,),\n",
       " (177,),\n",
       " (211,),\n",
       " (385,),\n",
       " (398,),\n",
       " (216,),\n",
       " (298,),\n",
       " (344,),\n",
       " (376,),\n",
       " (458,),\n",
       " (484,))"
      ]
     },
     "execution_count": 59,
     "metadata": {},
     "output_type": "execute_result"
    }
   ],
   "source": [
    "# 문제1\n",
    "cur.execute(\"select customerNumber from customers\")\n",
    "cur.fetchall()"
   ]
  },
  {
   "cell_type": "code",
   "execution_count": 60,
   "metadata": {},
   "outputs": [
    {
     "ename": "NameError",
     "evalue": "name 'customers' is not defined",
     "output_type": "error",
     "traceback": [
      "\u001b[1;31m---------------------------------------------------------------------------\u001b[0m",
      "\u001b[1;31mNameError\u001b[0m                                 Traceback (most recent call last)",
      "\u001b[1;32m~\\AppData\\Local\\Temp\\ipykernel_6516\\3690343891.py\u001b[0m in \u001b[0;36m<module>\u001b[1;34m\u001b[0m\n\u001b[0;32m      1\u001b[0m \u001b[1;31m# pandas ver.\u001b[0m\u001b[1;33m\u001b[0m\u001b[1;33m\u001b[0m\u001b[0m\n\u001b[1;32m----> 2\u001b[1;33m \u001b[0mcustomers\u001b[0m\u001b[1;33m[\u001b[0m\u001b[1;34m'customerNumber'\u001b[0m\u001b[1;33m]\u001b[0m\u001b[1;33m.\u001b[0m\u001b[0msort_values\u001b[0m\u001b[1;33m(\u001b[0m\u001b[1;33m)\u001b[0m\u001b[1;33m\u001b[0m\u001b[1;33m\u001b[0m\u001b[0m\n\u001b[0m",
      "\u001b[1;31mNameError\u001b[0m: name 'customers' is not defined"
     ]
    }
   ],
   "source": [
    "# pandas ver.\n",
    "customers['customerNumber'].sort_values()"
   ]
  },
  {
   "cell_type": "code",
   "execution_count": null,
   "metadata": {},
   "outputs": [],
   "source": [
    "# 문제2\n",
    "pd.read_sql_query(\"SELECT SUM(amount),COUNT(checknumber) FROM payments\", con=con)"
   ]
  },
  {
   "cell_type": "code",
   "execution_count": null,
   "metadata": {},
   "outputs": [],
   "source": [
    "payments['amount'].sum(), payments['checkNumber'].size"
   ]
  },
  {
   "cell_type": "code",
   "execution_count": null,
   "metadata": {},
   "outputs": [],
   "source": [
    "# 문제3\n",
    "products[['productName',\"productLine\"]]"
   ]
  },
  {
   "cell_type": "code",
   "execution_count": null,
   "metadata": {},
   "outputs": [],
   "source": [
    "# 문제4\n",
    "products['productCode'].size"
   ]
  },
  {
   "cell_type": "code",
   "execution_count": null,
   "metadata": {},
   "outputs": [],
   "source": [
    "# 문제5\n",
    "pd.read_sql_query(\"select distinct(ordernumber) from orderdetails\",con=con)\n",
    "orderdetails['orderNumber'].unique()\n",
    "orderdetails['orderNumber'].drop_duplicates()"
   ]
  },
  {
   "cell_type": "code",
   "execution_count": null,
   "metadata": {},
   "outputs": [],
   "source": [
    "# 문제6 where query\n",
    "orderdetails = pd.read_sql_query('select * from orderdetails', con =con)\n",
    "orderdetails[orderdetails['priceEach'].apply(lambda x : 30 <= x <= 50)]\n",
    "orderdetails.query('priceEach >= 30 and priceEach <= 50')\n",
    "# orderdetails.where((orderdetails['priceEach'] >= 30) & (orderdetails['priceEach'] <= 50) ).dropna() # 결측치 삭제"
   ]
  },
  {
   "cell_type": "code",
   "execution_count": null,
   "metadata": {},
   "outputs": [],
   "source": [
    "# 문제7\n",
    "orderdetails[orderdetails['priceEach'].apply(lambda x : x >= 30)]\n",
    "orderdetails.where((orderdetails['priceEach'] >= 30)).dropna()"
   ]
  },
  {
   "cell_type": "code",
   "execution_count": null,
   "metadata": {},
   "outputs": [],
   "source": [
    "# 문제8\n",
    "cumtomers = pd.read_sql_query('select country, customernumber from customers' ,con = con)\n",
    "cumtomers.loc[cumtomers['country'].apply(lambda x : x == 'USA' or x == 'Canada'), 'customernumber']\n",
    "# 강사님\n",
    "customers[cumtomers['country'].isin(['USA','CANADA'])]"
   ]
  },
  {
   "cell_type": "code",
   "execution_count": null,
   "metadata": {},
   "outputs": [],
   "source": [
    "# 문제9\n",
    "customers[customers['country'].notin(['USA', 'Canada'])]\n",
    "customers.loc[customers['country'].apply(lambda x : x != 'USA' and x != 'Canada'), 'customerNumber']"
   ]
  },
  {
   "cell_type": "code",
   "execution_count": null,
   "metadata": {},
   "outputs": [],
   "source": [
    "# 문제10\n",
    "employees = pd.read_sql_query('select reportsTo, employeeNumber from employees', con = con)\n",
    "employees.loc[employees['reportsTo'].isnull(), 'employeeNumber']"
   ]
  },
  {
   "cell_type": "code",
   "execution_count": null,
   "metadata": {},
   "outputs": [],
   "source": [
    "# 문제11\n",
    "customers = pd.read_sql_query('select addresline1 from customers', con = con)\n",
    "customers[customers['addressline1'].str.find('St') > -1]"
   ]
  },
  {
   "cell_type": "code",
   "execution_count": null,
   "metadata": {},
   "outputs": [],
   "source": [
    "# 문제12 GROUP BY query\n",
    "customers = pd.read_sql_query('select * from customers', con = con)\n",
    "costomers.groupby(['country', 'city'])['customerId'].count()"
   ]
  },
  {
   "cell_type": "code",
   "execution_count": null,
   "metadata": {},
   "outputs": [],
   "source": [
    "# 문제13 JOIN query\n",
    "customers = pd.read_sql_query('select * from customers', con = con)\n",
    "orders = pd.read_sql_query('select * from orders', con = con)\n",
    "pd.merge(cutomers,order,left_on = customerNumber, right_on = customerNumber,how=left).loc[:, ['orderNumber', 'country']]"
   ]
  },
  {
   "cell_type": "code",
   "execution_count": null,
   "metadata": {},
   "outputs": [],
   "source": [
    "# 문제14\n",
    "df = pd.merge(cutomers,order,left_on = customerNumber, right_on = customerNumber,how=left)\n",
    "df.loc[df['country'].apply(lambda x : x == 'USA'), ['orderNumber', 'country']]"
   ]
  },
  {
   "cell_type": "code",
   "execution_count": null,
   "metadata": {},
   "outputs": [],
   "source": [
    "# 문제15\n",
    "df = pd.merge(cutomers,order,left_on = customerNumber, right_on = customerNumber,how='inner')\n",
    "df.loc[df['country'].apply(lambda x : x == 'USA'), ['customerNumber', 'country']]"
   ]
  }
 ],
 "metadata": {
  "kernelspec": {
   "display_name": "base",
   "language": "python",
   "name": "python3"
  },
  "language_info": {
   "codemirror_mode": {
    "name": "ipython",
    "version": 3
   },
   "file_extension": ".py",
   "mimetype": "text/x-python",
   "name": "python",
   "nbconvert_exporter": "python",
   "pygments_lexer": "ipython3",
   "version": "3.9.13"
  },
  "orig_nbformat": 4
 },
 "nbformat": 4,
 "nbformat_minor": 2
}
