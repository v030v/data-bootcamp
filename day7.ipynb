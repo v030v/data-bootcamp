{
 "cells": [
  {
   "cell_type": "code",
   "execution_count": 1,
   "metadata": {},
   "outputs": [],
   "source": [
    "import requests \n",
    "import pymysql\n",
    "try:\n",
    "    con = pymysql.connect(host='192.168.56.101', \n",
    "                          user='encore', password='123', \n",
    "                          charset='utf8', db='test') #MySQL Connection 연결\n",
    "    ''' \n",
    "    host : blah blah~ \n",
    "    return cur, con\n",
    "    '''\n",
    "    cur = con.cursor() #Connection으로부터 Cursor 생성\n",
    "except Exception as e:\n",
    "    print (\"error ->\", e)\n"
   ]
  },
  {
   "cell_type": "code",
   "execution_count": 19,
   "metadata": {},
   "outputs": [],
   "source": [
    "krx_url = \"http://data.krx.co.kr/comm/bldAttendant/getJsonData.cmd\"\n",
    "payload = {\"bld\"  : \"dbms/MDC/STAT/standard/MDCSTAT01901\",\n",
    "            \"locale\"  : \"ko_KR\",\n",
    "            \"mktId\"  : \"ALL\",\n",
    "            \"share\"  : \"1\",\n",
    "            \"csvxls_isNo\"  : \"false\",}\n",
    "r = requests.post(krx_url, data=payload) #데이터 크롤링\n",
    "rt = r.json()\n"
   ]
  },
  {
   "cell_type": "code",
   "execution_count": 21,
   "metadata": {},
   "outputs": [],
   "source": [
    "sql = \"INSERT INTO KRX VALUES (%s, %s, %s, %s, %s, %s, %s, %s, %s, %s, %s, %s)\"\n",
    "for data in rt['OutBlock_1']:\n",
    "    try:\n",
    "        cur.execute(sql, list(data.values()))\n",
    "    except:\n",
    "        pass\n",
    "\n",
    "con.commit()     #SQL을 실행해서 KRX의 값을 리스트로 넣어줘\n"
   ]
  },
  {
   "cell_type": "code",
   "execution_count": 6,
   "metadata": {},
   "outputs": [
    {
     "name": "stderr",
     "output_type": "stream",
     "text": [
      "c:\\Users\\Playdata\\Anaconda3\\lib\\site-packages\\pandas\\io\\sql.py:762: UserWarning: pandas only support SQLAlchemy connectable(engine/connection) ordatabase string URI or sqlite3 DBAPI2 connectionother DBAPI2 objects are not tested, please consider using SQLAlchemy\n",
      "  warnings.warn(\n"
     ]
    }
   ],
   "source": [
    "\n",
    "import pandas as pd #판다스를 실행해서 SQL의 KRX 쿼리 값을 불러와\n",
    "krx = pd.read_sql_query(\"\"\"SELECT * \n",
    "                        FROM KRX\n",
    "                        WHERE MKT_TP_NM IN ('KOSPI', 'KOSDAQ')\"\"\", con)\n"
   ]
  },
  {
   "cell_type": "code",
   "execution_count": 7,
   "metadata": {},
   "outputs": [
    {
     "data": {
      "text/plain": [
       "'KR7000040006'"
      ]
     },
     "execution_count": 7,
     "metadata": {},
     "output_type": "execute_result"
    }
   ],
   "source": [
    "krx.loc[1, 'ISU_CD'] # 라벨 값으로 데이터 접근, ISU_CD의 1번 인덱스 값\n"
   ]
  },
  {
   "cell_type": "code",
   "execution_count": 8,
   "metadata": {},
   "outputs": [
    {
     "data": {
      "text/html": [
       "<div>\n",
       "<style scoped>\n",
       "    .dataframe tbody tr th:only-of-type {\n",
       "        vertical-align: middle;\n",
       "    }\n",
       "\n",
       "    .dataframe tbody tr th {\n",
       "        vertical-align: top;\n",
       "    }\n",
       "\n",
       "    .dataframe thead th {\n",
       "        text-align: right;\n",
       "    }\n",
       "</style>\n",
       "<table border=\"1\" class=\"dataframe\">\n",
       "  <thead>\n",
       "    <tr style=\"text-align: right;\">\n",
       "      <th></th>\n",
       "      <th>ISU_CD</th>\n",
       "      <th>ISU_NM</th>\n",
       "      <th>ISU_SRT_CD</th>\n",
       "    </tr>\n",
       "  </thead>\n",
       "  <tbody>\n",
       "    <tr>\n",
       "      <th>1</th>\n",
       "      <td>KR7000040006</td>\n",
       "      <td>KR모터스보통주</td>\n",
       "      <td>000040</td>\n",
       "    </tr>\n",
       "    <tr>\n",
       "      <th>2</th>\n",
       "      <td>KR7000050005</td>\n",
       "      <td>경방보통주</td>\n",
       "      <td>000050</td>\n",
       "    </tr>\n",
       "    <tr>\n",
       "      <th>3</th>\n",
       "      <td>KR7000070003</td>\n",
       "      <td>삼양홀딩스보통주</td>\n",
       "      <td>000070</td>\n",
       "    </tr>\n",
       "    <tr>\n",
       "      <th>4</th>\n",
       "      <td>KR7000071001</td>\n",
       "      <td>삼양홀딩스1우선주</td>\n",
       "      <td>000075</td>\n",
       "    </tr>\n",
       "    <tr>\n",
       "      <th>5</th>\n",
       "      <td>KR7000080002</td>\n",
       "      <td>하이트진로보통주</td>\n",
       "      <td>000080</td>\n",
       "    </tr>\n",
       "    <tr>\n",
       "      <th>...</th>\n",
       "      <td>...</td>\n",
       "      <td>...</td>\n",
       "      <td>...</td>\n",
       "    </tr>\n",
       "    <tr>\n",
       "      <th>2510</th>\n",
       "      <td>KR8392080006</td>\n",
       "      <td>제이티씨</td>\n",
       "      <td>950170</td>\n",
       "    </tr>\n",
       "    <tr>\n",
       "      <th>2511</th>\n",
       "      <td>KR8344390008</td>\n",
       "      <td>미투젠</td>\n",
       "      <td>950190</td>\n",
       "    </tr>\n",
       "    <tr>\n",
       "      <th>2512</th>\n",
       "      <td>KR8840150005</td>\n",
       "      <td>소마젠</td>\n",
       "      <td>950200</td>\n",
       "    </tr>\n",
       "    <tr>\n",
       "      <th>2513</th>\n",
       "      <td>KR8702070002</td>\n",
       "      <td>프레스티지바이오파마KDR</td>\n",
       "      <td>950210</td>\n",
       "    </tr>\n",
       "    <tr>\n",
       "      <th>2514</th>\n",
       "      <td>KR8840140006</td>\n",
       "      <td>네오이뮨텍</td>\n",
       "      <td>950220</td>\n",
       "    </tr>\n",
       "  </tbody>\n",
       "</table>\n",
       "<p>2514 rows × 3 columns</p>\n",
       "</div>"
      ],
      "text/plain": [
       "            ISU_CD         ISU_NM ISU_SRT_CD\n",
       "1     KR7000040006       KR모터스보통주     000040\n",
       "2     KR7000050005          경방보통주     000050\n",
       "3     KR7000070003       삼양홀딩스보통주     000070\n",
       "4     KR7000071001      삼양홀딩스1우선주     000075\n",
       "5     KR7000080002       하이트진로보통주     000080\n",
       "...            ...            ...        ...\n",
       "2510  KR8392080006           제이티씨     950170\n",
       "2511  KR8344390008            미투젠     950190\n",
       "2512  KR8840150005            소마젠     950200\n",
       "2513  KR8702070002  프레스티지바이오파마KDR     950210\n",
       "2514  KR8840140006          네오이뮨텍     950220\n",
       "\n",
       "[2514 rows x 3 columns]"
      ]
     },
     "execution_count": 8,
     "metadata": {},
     "output_type": "execute_result"
    }
   ],
   "source": [
    "krx.loc[1:, ['ISU_CD', 'ISU_NM', 'ISU_SRT_CD']] # 쿼리의 1번부터 끝까지 값\n"
   ]
  },
  {
   "cell_type": "code",
   "execution_count": 9,
   "metadata": {},
   "outputs": [
    {
     "data": {
      "text/html": [
       "<div>\n",
       "<style scoped>\n",
       "    .dataframe tbody tr th:only-of-type {\n",
       "        vertical-align: middle;\n",
       "    }\n",
       "\n",
       "    .dataframe tbody tr th {\n",
       "        vertical-align: top;\n",
       "    }\n",
       "\n",
       "    .dataframe thead th {\n",
       "        text-align: right;\n",
       "    }\n",
       "</style>\n",
       "<table border=\"1\" class=\"dataframe\">\n",
       "  <thead>\n",
       "    <tr style=\"text-align: right;\">\n",
       "      <th></th>\n",
       "      <th>ISU_SRT_CD</th>\n",
       "      <th>ISU_NM</th>\n",
       "      <th>ISU_ABBRV</th>\n",
       "    </tr>\n",
       "  </thead>\n",
       "  <tbody>\n",
       "    <tr>\n",
       "      <th>0</th>\n",
       "      <td>000020</td>\n",
       "      <td>동화약품보통주</td>\n",
       "      <td>동화약품</td>\n",
       "    </tr>\n",
       "    <tr>\n",
       "      <th>1</th>\n",
       "      <td>000040</td>\n",
       "      <td>KR모터스보통주</td>\n",
       "      <td>KR모터스</td>\n",
       "    </tr>\n",
       "    <tr>\n",
       "      <th>2</th>\n",
       "      <td>000050</td>\n",
       "      <td>경방보통주</td>\n",
       "      <td>경방</td>\n",
       "    </tr>\n",
       "    <tr>\n",
       "      <th>3</th>\n",
       "      <td>000070</td>\n",
       "      <td>삼양홀딩스보통주</td>\n",
       "      <td>삼양홀딩스</td>\n",
       "    </tr>\n",
       "    <tr>\n",
       "      <th>4</th>\n",
       "      <td>000075</td>\n",
       "      <td>삼양홀딩스1우선주</td>\n",
       "      <td>삼양홀딩스우</td>\n",
       "    </tr>\n",
       "    <tr>\n",
       "      <th>...</th>\n",
       "      <td>...</td>\n",
       "      <td>...</td>\n",
       "      <td>...</td>\n",
       "    </tr>\n",
       "    <tr>\n",
       "      <th>2510</th>\n",
       "      <td>950170</td>\n",
       "      <td>제이티씨</td>\n",
       "      <td>JTC</td>\n",
       "    </tr>\n",
       "    <tr>\n",
       "      <th>2511</th>\n",
       "      <td>950190</td>\n",
       "      <td>미투젠</td>\n",
       "      <td>미투젠</td>\n",
       "    </tr>\n",
       "    <tr>\n",
       "      <th>2512</th>\n",
       "      <td>950200</td>\n",
       "      <td>소마젠</td>\n",
       "      <td>소마젠</td>\n",
       "    </tr>\n",
       "    <tr>\n",
       "      <th>2513</th>\n",
       "      <td>950210</td>\n",
       "      <td>프레스티지바이오파마KDR</td>\n",
       "      <td>프레스티지바이오파마</td>\n",
       "    </tr>\n",
       "    <tr>\n",
       "      <th>2514</th>\n",
       "      <td>950220</td>\n",
       "      <td>네오이뮨텍</td>\n",
       "      <td>네오이뮨텍</td>\n",
       "    </tr>\n",
       "  </tbody>\n",
       "</table>\n",
       "<p>2515 rows × 3 columns</p>\n",
       "</div>"
      ],
      "text/plain": [
       "     ISU_SRT_CD         ISU_NM   ISU_ABBRV\n",
       "0        000020        동화약품보통주        동화약품\n",
       "1        000040       KR모터스보통주       KR모터스\n",
       "2        000050          경방보통주          경방\n",
       "3        000070       삼양홀딩스보통주       삼양홀딩스\n",
       "4        000075      삼양홀딩스1우선주      삼양홀딩스우\n",
       "...         ...            ...         ...\n",
       "2510     950170           제이티씨         JTC\n",
       "2511     950190            미투젠         미투젠\n",
       "2512     950200            소마젠         소마젠\n",
       "2513     950210  프레스티지바이오파마KDR  프레스티지바이오파마\n",
       "2514     950220          네오이뮨텍       네오이뮨텍\n",
       "\n",
       "[2515 rows x 3 columns]"
      ]
     },
     "execution_count": 9,
     "metadata": {},
     "output_type": "execute_result"
    }
   ],
   "source": [
    "krx.iloc[0:, [1,2,3]]  #0번부터 끝까지 1,2,3번의 쿼리를 가져와줘\n"
   ]
  },
  {
   "cell_type": "code",
   "execution_count": 10,
   "metadata": {},
   "outputs": [],
   "source": [
    "import requests\n",
    "import pandas as pd \n",
    "\n",
    "def get_stock(code, page):\n",
    "    naver_url = \"https://finance.naver.com/item/sise_day.naver?code={}&page={}\"\n",
    "    head = {'User-Agent': \"Mozilla/5.0 (Windows NT 10.0; Win64; x64) AppleWebKit/537.36 (KHTML, like Gecko) Chrome/110.0.0.0 Safari/537.36\"}\n",
    "    r= requests.get(naver_url.format(code,page),headers=head)\n",
    "    return pd.read_html(r.text)[0].dropna()\n"
   ]
  },
  {
   "cell_type": "code",
   "execution_count": 11,
   "metadata": {},
   "outputs": [
    {
     "name": "stdout",
     "output_type": "stream",
     "text": [
      "haha\n"
     ]
    }
   ],
   "source": [
    "if __name__==\"__main__\":\n",
    "    print(\"haha\")\n"
   ]
  },
  {
   "cell_type": "code",
   "execution_count": 12,
   "metadata": {},
   "outputs": [],
   "source": [
    "import naver\n",
    "from naver import get_stock\n",
    "import numpy as np\n",
    "\n",
    "samsung = get_stock(\"005930\", 2)\n"
   ]
  },
  {
   "cell_type": "code",
   "execution_count": 13,
   "metadata": {},
   "outputs": [
    {
     "data": {
      "text/plain": [
       "Index(['날짜', '종가', '전일비', '시가', '고가', '저가', '거래량'], dtype='object')"
      ]
     },
     "execution_count": 13,
     "metadata": {},
     "output_type": "execute_result"
    }
   ],
   "source": [
    "samsung.columns\n"
   ]
  },
  {
   "cell_type": "code",
   "execution_count": 14,
   "metadata": {},
   "outputs": [],
   "source": [
    "samsung[['종가', '전일비', '시가', '고가', '저가', '거래량']] = \\\n",
    "samsung[['종가', '전일비', '시가', '고가', '저가', '거래량']].astype(np.int64)\n",
    "samsung['거래금액'] = samsung['종가'] * samsung['거래량']\n"
   ]
  },
  {
   "cell_type": "code",
   "execution_count": 17,
   "metadata": {},
   "outputs": [],
   "source": [
    "# 종목 -> symbol\n",
    "# 날짜 -> stock_date\n",
    "# 종가 -> close\n",
    "# 전일비 -> before\n",
    "# 시가 -> open\n",
    "# 고가 -> high\n",
    "# 저가 -> low\n",
    "# 거래량 -> vol\n",
    "# 거래금액 -> money\n"
   ]
  },
  {
   "cell_type": "code",
   "execution_count": 15,
   "metadata": {},
   "outputs": [],
   "source": [
    "samsung['종목'] = '005930'\n",
    "samsung = samsung[['종목', '날짜', '종가', '전일비', '시가', '고가', '저가', '거래량', '거래금액', ]]\n"
   ]
  },
  {
   "cell_type": "code",
   "execution_count": 16,
   "metadata": {},
   "outputs": [],
   "source": [
    "sql = \"INSERT INTO stock_day VALUES (%s , %s , %s , %s , %s , %s , %s , %s , %s)\"\n",
    "\n",
    "for idx, row in samsung.iterrows():\n",
    "    try:\n",
    "        cur.execute(sql,list(row.values))\n",
    "    except:\n",
    "        pass\n",
    "    \n",
    "con.commit()\n"
   ]
  },
  {
   "cell_type": "code",
   "execution_count": 18,
   "metadata": {},
   "outputs": [],
   "source": [
    "import pymysql\n",
    "\n",
    "def connection(host='192.168.56.101', user='encore', password='123', \n",
    "                              charset='utf8', db='test'):\n",
    "    try:\n",
    "        con = pymysql.connect(host=host, \n",
    "                              user=user, password=password ,\n",
    "                              charset=charset, db=db)\n",
    "        cur = con.cursor()\n",
    "    except Exception as e:\n",
    "        print (\"error ->\", e)\n",
    "    \n",
    "    return cur, con\n"
   ]
  },
  {
   "cell_type": "code",
   "execution_count": null,
   "metadata": {},
   "outputs": [],
   "source": []
  }
 ],
 "metadata": {
  "kernelspec": {
   "display_name": "base",
   "language": "python",
   "name": "python3"
  },
  "language_info": {
   "codemirror_mode": {
    "name": "ipython",
    "version": 3
   },
   "file_extension": ".py",
   "mimetype": "text/x-python",
   "name": "python",
   "nbconvert_exporter": "python",
   "pygments_lexer": "ipython3",
   "version": "3.9.13"
  },
  "orig_nbformat": 4,
  "vscode": {
   "interpreter": {
    "hash": "ca71aff40853dd846130b67975d07637ec6294bee047a07657cfc9075e3162be"
   }
  }
 },
 "nbformat": 4,
 "nbformat_minor": 2
}
